{
 "cells": [
  {
   "cell_type": "markdown",
   "metadata": {},
   "source": [
    "## Buat bintang"
   ]
  },
  {
   "cell_type": "code",
   "execution_count": 1,
   "metadata": {},
   "outputs": [
    {
     "name": "stdout",
     "output_type": "stream",
     "text": [
      "*\n",
      "**\n",
      "***\n",
      "****\n",
      "*****\n"
     ]
    }
   ],
   "source": [
    "for i in range(5):\n",
    "    i += 1 \n",
    "    print('*'*i)"
   ]
  },
  {
   "cell_type": "code",
   "execution_count": 9,
   "metadata": {},
   "outputs": [
    {
     "name": "stdout",
     "output_type": "stream",
     "text": [
      "*****\n",
      "****\n",
      "***\n",
      "**\n",
      "*\n",
      "\n"
     ]
    }
   ],
   "source": [
    "n = 6\n",
    "while n > 0:\n",
    "    n -= 1\n",
    "    print('*'*n)\n",
    "    "
   ]
  },
  {
   "cell_type": "code",
   "execution_count": null,
   "metadata": {},
   "outputs": [],
   "source": [
    "for row in [5,4,3,2,1]:\n",
    "    for col in range(row):\n",
    "        print(\"*\", end='')\n",
    "    print()"
   ]
  },
  {
   "cell_type": "code",
   "execution_count": 16,
   "metadata": {},
   "outputs": [
    {
     "name": "stdout",
     "output_type": "stream",
     "text": [
      "1\n",
      "12\n",
      "123\n",
      "1234\n",
      "12345\n"
     ]
    }
   ],
   "source": [
    "for i in range (1, 6):             \n",
    "    for j in range (1, i+1):             \n",
    "        print(j, end='')\n",
    "    print ()"
   ]
  },
  {
   "cell_type": "markdown",
   "metadata": {},
   "source": [
    "soal 1"
   ]
  },
  {
   "cell_type": "code",
   "execution_count": 11,
   "metadata": {},
   "outputs": [
    {
     "name": "stdout",
     "output_type": "stream",
     "text": [
      "ganjil\n"
     ]
    }
   ],
   "source": [
    "angka = int(input('Masukan angka: '))\n",
    "\n",
    "if angka % 2 == 0:\n",
    "    print('Genap')\n",
    "else:\n",
    "    print('ganjil')\n"
   ]
  },
  {
   "cell_type": "markdown",
   "metadata": {},
   "source": [
    "soal 2"
   ]
  },
  {
   "cell_type": "code",
   "execution_count": 23,
   "metadata": {},
   "outputs": [
    {
     "name": "stdout",
     "output_type": "stream",
     "text": [
      "2\n"
     ]
    }
   ],
   "source": [
    "kata = str(input('Masukan kata: '))\n",
    "\n",
    "jumlah = 0\n",
    "for i in kata:\n",
    "    vocal = 'aiueo'\n",
    "    if i in vocal:\n",
    "        jumlah += 1\n",
    "print(jumlah)"
   ]
  },
  {
   "cell_type": "code",
   "execution_count": 18,
   "metadata": {},
   "outputs": [
    {
     "name": "stdout",
     "output_type": "stream",
     "text": [
      "2\n",
      "5\n"
     ]
    }
   ],
   "source": [
    "nama_masukan = input(\"Masukkan Nama: \")\n",
    "\n",
    "jumlah = 0\n",
    "for huruf in nama_masukan:\n",
    "    if huruf in \"aiueo\":\n",
    "        jumlah = jumlah + 1\n",
    "print(jumlah)\n",
    "\n",
    "jumlah2 = 0\n",
    "for huruf2 in nama_masukan:\n",
    "    if (huruf2.isalpha() == True):\n",
    "        jumlah2 = jumlah2 +1\n",
    "print(jumlah2)"
   ]
  },
  {
   "cell_type": "code",
   "execution_count": null,
   "metadata": {},
   "outputs": [],
   "source": [
    "num = int(input('Masukan angaka : '))\n",
    "if num > 1 :\n",
    "    for i in range(2, num):\n",
    "        if (num % i) == 0:\n",
    "            print(num, 'bukan bilangan prima')\n",
    "            break\n",
    "        else:\n",
    "            print(num, 'adalah bilangan prima')\n",
    "\n",
    "else:\n",
    "    print(num, 'bukan bilangan prima')\n",
    "\n"
   ]
  },
  {
   "cell_type": "code",
   "execution_count": null,
   "metadata": {},
   "outputs": [
    {
     "name": "stdout",
     "output_type": "stream",
     "text": [
      "ada 2 huruf vokal dan 3 huruf kosonan\n"
     ]
    }
   ],
   "source": [
    "kata = str(input('masuakan : '))\n",
    "vokal = 'aiueo'\n",
    "jumlah_vokal = 0\n",
    "jumlah_konsonan = 0 \n",
    "\n",
    "for huruf in kata:\n",
    "    if huruf in vokal:\n",
    "        jumlah_vokal += 1\n",
    "    elif huruf.isalpha():\n",
    "        jumlah_konsonan += 1\n",
    "\n",
    "\n",
    "print(f'ada {jumlah_vokal} huruf vokal dan {jumlah_konsonan} huruf kosonan')"
   ]
  }
 ],
 "metadata": {
  "kernelspec": {
   "display_name": "py-39",
   "language": "python",
   "name": "python3"
  },
  "language_info": {
   "codemirror_mode": {
    "name": "ipython",
    "version": 3
   },
   "file_extension": ".py",
   "mimetype": "text/x-python",
   "name": "python",
   "nbconvert_exporter": "python",
   "pygments_lexer": "ipython3",
   "version": "3.12.1"
  }
 },
 "nbformat": 4,
 "nbformat_minor": 2
}
