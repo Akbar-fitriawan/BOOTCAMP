{
  "nbformat": 4,
  "nbformat_minor": 0,
  "metadata": {
    "colab": {
      "provenance": []
    },
    "kernelspec": {
      "name": "python3",
      "display_name": "Python 3"
    },
    "language_info": {
      "name": "python"
    }
  },
  "cells": [
    {
      "cell_type": "markdown",
      "source": [
        "\n",
        "- Create Table\n",
        "- add fk customer_id\n",
        "- insert Customer\n",
        "- insert Orders\n",
        "---\n",
        "\n",
        "\n",
        "\n",
        "```\n",
        "create table Customers(\n",
        "    customer_id int primary key,\n",
        "    customer_name varchar(100),\n",
        "    city varchar(100)\n",
        "    \n",
        ");\n",
        "\n",
        "-- drop table Customers;\n",
        "-- drop table Orders;\n",
        "-- truncate table Orders;\n",
        "\n",
        "create table Orders(\n",
        "   order_id int ,\n",
        "   order_date date,\n",
        "   total_amount float,\n",
        "   customer_id serial not null,\n",
        "   primary key(order_id),\n",
        "   constraint fk_customer_id\n",
        "    foreign key(customer_id)\n",
        "    references Customers(customer_id)\n",
        "    \n",
        ");\n",
        "\n",
        "insert into customers(customer_id,customer_name,city)\n",
        "values (1,'John Doe', 'New York'),\n",
        "       (2,'Jane Smith', 'Los Angeles'),\n",
        "       (3,'David John', 'Chicago');\n",
        "\n",
        "insert into orders(order_id,order_date, total_amount,customer_id)\n",
        "values\n",
        "(1,'2022-05-10', 100.00,3),\n",
        "(2,'2022-02-15', 150.00,2),\n",
        "(3,'2022-03-20', 200.00,1);\n",
        "\n",
        "select * from Customers;\n",
        "select * from orders;\n",
        "\n",
        "\n",
        "\n",
        "\n",
        "```\n",
        "\n"
      ],
      "metadata": {
        "id": "YbPL523p_x6v"
      }
    },
    {
      "cell_type": "markdown",
      "source": [
        "\n",
        "\n",
        "---\n",
        "- add user and pass (john,1234)\n",
        "- grant insert,update,select on Customer\n",
        "\n",
        "---\n",
        "\n",
        "```\n",
        "create user john with password '1234';\n",
        "\n",
        "select * from pg_user;\n",
        "\n",
        "grant select ,insert,update ON Customers to john;\n",
        "```\n",
        "\n"
      ],
      "metadata": {
        "id": "hKTueARvAVFx"
      }
    },
    {
      "cell_type": "markdown",
      "source": [
        "\n",
        "\n",
        "---\n",
        "- select\n",
        "- update jane marry\n",
        "- insert joko\n",
        "\n",
        "---\n",
        "\n",
        "```\n",
        "select * from Customers;\n",
        "\n",
        "update Customers\n",
        "set customer_name = 'Jane Marry'\n",
        "where customer_id = 2;\n",
        "\n",
        "insert into Customers (customer_id, customer_name,city)\n",
        "values(4,'Joko D York','Jonggol');\n",
        "```\n"
      ],
      "metadata": {
        "id": "pzEt7eduAy-P"
      }
    },
    {
      "cell_type": "code",
      "execution_count": null,
      "metadata": {
        "id": "u2AkCpPg_dUC"
      },
      "outputs": [],
      "source": []
    }
  ]
}